{
 "worksheets": [
  {
   "cells": [
    {
     "cell_type": "heading",
     "metadata": {},
     "level": 2,
     "source": [
      "Running 'ellipse':"
     ]
    },
    {
     "cell_type": "markdown",
     "metadata": {},
     "source": [
      "Import required packages:"
     ]
    },
    {
     "cell_type": "code",
     "metadata": {},
     "outputs": [],
     "input": [
      "from astropy.io import fits\n",
      "from ellipse.ellipse import Ellipse"
     ],
     "language": "python"
    },
    {
     "cell_type": "markdown",
     "metadata": {},
     "source": [
      "Read test image:"
     ]
    },
    {
     "cell_type": "code",
     "metadata": {},
     "outputs": [],
     "input": [
      "image = fits.open(\"test/data/M51.fits\")\n",
      "pixel_data = image[0].data"
     ],
     "language": "python"
    },
    {
     "cell_type": "markdown",
     "metadata": {},
     "source": [
      "Create an instance of the Ellipse class, passing the numpy 2-D array with the pixel data as argument:"
     ]
    },
    {
     "cell_type": "code",
     "metadata": {},
     "outputs": [],
     "input": [
      "ellipse = Ellipse(pixel_data)"
     ],
     "language": "python"
    },
    {
     "cell_type": "markdown",
     "metadata": {},
     "source": [
      "Finally, run the fitter, getting as result a list with instances of class Isophote:"
     ]
    },
    {
     "cell_type": "code",
     "metadata": {},
     "outputs": [],
     "input": [
      "isophote_list = ellipse.fit_image(verbose=True)\n",
      "\n",
      "type(isophote_list)\n",
      "len(isophote_list)\n",
      "type(isophote_list[0])"
     ],
     "language": "python"
    }
   ]
  }
 ],
 "cells": [],
 "metadata": {},
 "nbformat": 3,
 "nbformat_minor": 0
}