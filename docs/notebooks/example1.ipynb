{
 "cells": [
  {
   "cell_type": "markdown",
   "metadata": {},
   "source": [
    "## Running 'ellipse':"
   ]
  },
  {
   "cell_type": "markdown",
   "metadata": {},
   "source": [
    "Import required packages:"
   ]
  },
  {
   "cell_type": "code",
   "execution_count": 1,
   "metadata": {
    "collapsed": true
   },
   "outputs": [],
   "source": [
    "from astropy.io import fits\n",
    "from ellipse.ellipse import Ellipse"
   ]
  },
  {
   "cell_type": "markdown",
   "metadata": {},
   "source": [
    "Read test image (this is the image formerly distributed with the IRAF software as dev$pix):"
   ]
  },
  {
   "cell_type": "code",
   "execution_count": 2,
   "metadata": {
    "collapsed": true
   },
   "outputs": [],
   "source": [
    "image = fits.open(\"../../test/data/M51.fits\")\n",
    "pixel_data = image[0].data"
   ]
  },
  {
   "cell_type": "markdown",
   "metadata": {},
   "source": [
    "Create an instance of the Ellipse class, passing the numpy 2-D array with the pixel data as argument:"
   ]
  },
  {
   "cell_type": "code",
   "execution_count": 3,
   "metadata": {
    "collapsed": true
   },
   "outputs": [],
   "source": [
    "ellipse = Ellipse(pixel_data)"
   ]
  },
  {
   "cell_type": "markdown",
   "metadata": {},
   "source": [
    "Finally, run the fitter, getting as result a list with instances of class Isophote.\n",
    "\n",
    "Wait until all the output prints out, down to the SMA = 0 central intensity value."
   ]
  },
  {
   "cell_type": "code",
   "execution_count": 4,
   "metadata": {
    "collapsed": false
   },
   "outputs": [
    {
     "name": "stdout",
     "output_type": "stream",
     "text": [
      "#\n",
      "# Semi-    Isophote      Ellipticity   Position    Grad.  Data  Flag  Iter. Stop\n",
      "# major      mean                       Angle       rel.                    code\n",
      "# axis     intensity                               error\n",
      "#(pixel)                               (degree)\n",
      "#\n",
      "  10.00     1087.19        0.098        67.76      0.193    60    0    20     0\n",
      "  11.00     1045.31        0.134        73.17      0.157    64    0    10     0\n",
      "  12.10      988.67        0.157        68.42      0.158    70    0    10     0\n",
      "  13.31      884.66        0.022        52.72      0.490    83    0    50     2\n",
      "  14.64      857.60        0.022        52.72      0.521    91    0     3     5\n",
      "  16.11      961.28        0.403        52.72      0.313    77    0    50     2\n",
      "  17.72      887.29        0.358        50.58      0.145    88    0    10     0\n",
      "  19.49      756.85        0.179        35.12      0.110   110    0    10     0\n",
      "  21.44      681.95        0.211        35.82      0.153   119    0    10     0\n",
      "  23.58      667.52        0.282        38.90      0.113   124    0    10     0\n",
      "  25.94      525.35        0.226        41.16      0.099   142    0    10     0\n",
      "  28.53      538.81        0.311        51.16      0.106   147    0    14     0\n",
      "  31.38      350.41        0.054        40.98      0.227   191    0    50     2\n",
      "  34.52      314.72        0.054        40.98      0.241   210    0     5     5\n",
      "  37.97      280.18        0.054        40.98      3.619   231    0     3     5\n",
      "   9.09     1115.02        0.049        60.68      0.242    56    0    10     0\n",
      "   8.26     1150.21        0.061       102.34      0.231    50    0    10     0\n",
      "   7.51     1223.89        0.083       115.56      0.162    45    0    10     0\n",
      "   6.83     1304.72        0.073       120.83      0.136    41    0    10     0\n",
      "   6.21     1403.78        0.079       125.38      0.118    38    0    10     0\n",
      "   5.64     1514.93        0.096       129.52      0.111    34    0    10     0\n",
      "   5.13     1633.00        0.107       131.96      0.100    31    0    10     0\n",
      "   4.67     1760.24        0.112       128.58      0.083    28    0    10     0\n",
      "   4.24     1892.80        0.107       127.02      0.075    25    0    10     0\n",
      "   3.86     2053.30        0.098       123.63      0.063    23    0    10     0\n",
      "   3.50     2247.88        0.098       120.56      0.056    21    0    10     0\n",
      "   3.19     2442.21        0.084       120.56      0.087    19    0    10     0\n",
      "   2.90     2769.25        0.096       120.57      0.065    18    0    50     2\n",
      "   2.63     3070.12        0.098       118.17      0.056    16    0    10     0\n",
      "   2.39     3406.76        0.098       116.95      0.061    15    0    50     2\n",
      "   2.18     3681.14        0.070       122.94      0.089    14    0    50     2\n",
      "   1.98     4044.86        0.070       114.09      0.095    13    0    50     2\n",
      "   1.80     4423.00        0.070       111.70      0.088    13    0    50     2\n",
      "   1.64     4853.35        0.094       121.85      0.093    13    0    10     0\n",
      "   1.49     5164.43        0.091       121.60      0.103    13    0    10     0\n",
      "   1.35     5445.99        0.084       119.39      0.091    13    0    10     0\n",
      "   1.23     5705.82        0.092       119.43      0.125    13    0    10     0\n",
      "   1.12     5974.03        0.108       117.57      0.146    13    0    50     2\n",
      "   1.02     6152.98        0.091       104.25      0.251    13    0    50     2\n",
      "   0.92     6309.40        0.071       153.80      0.400    13    0    10     0\n",
      "   0.84     6433.70        0.081       152.47      0.505    13    0    15     0\n",
      "   0.76     6523.17        0.081       132.99      0.390    13    0    16     0\n",
      "   0.69     6608.21        0.058       137.10      0.357    13    0    24     0\n",
      "   0.63     6751.34        0.022       128.13      0.707    13    0    10     0\n",
      "   0.57     6797.70        0.062       138.03      0.365    13    0    18     0\n",
      "   0.52     6877.88        0.052       134.85      0.389    13    0    14     0\n",
      "   0.00     7970.06\n"
     ]
    }
   ],
   "source": [
    "isophote_list = ellipse.fit_image(verbose=True)"
   ]
  },
  {
   "cell_type": "code",
   "execution_count": 5,
   "metadata": {
    "collapsed": false
   },
   "outputs": [
    {
     "data": {
      "text/plain": [
       "ellipse.isophote.Isophote"
      ]
     },
     "execution_count": 5,
     "metadata": {},
     "output_type": "execute_result"
    }
   ],
   "source": [
    "type(isophote_list[-1])"
   ]
  },
  {
   "cell_type": "markdown",
   "metadata": {},
   "source": [
    "# Plotting results:"
   ]
  },
  {
   "cell_type": "markdown",
   "metadata": {},
   "source": [
    "Import packages necessary for plotting:"
   ]
  },
  {
   "cell_type": "code",
   "execution_count": 6,
   "metadata": {
    "collapsed": false
   },
   "outputs": [],
   "source": [
    "import numpy as np\n",
    "import matplotlib.pyplot as plt"
   ]
  },
  {
   "cell_type": "markdown",
   "metadata": {},
   "source": [
    "Basic plot of intensities as a function of (semi-major axis length) ** 1/4:"
   ]
  },
  {
   "cell_type": "code",
   "execution_count": 9,
   "metadata": {
    "collapsed": false
   },
   "outputs": [
    {
     "data": {
      "image/png": "[encoded data removed]",
      "text/plain": [
       "<matplotlib.figure.Figure at 0x10eb5d3c8>"
      ]
     },
     "metadata": {},
     "output_type": "display_data"
    }
   ],
   "source": [
    "sma_list = []\n",
    "intens_list = []\n",
    "\n",
    "for i in range(len(isophote_list)):\n",
    "    iso = isophote_list[i]\n",
    "\n",
    "    sma_list.append(iso.sma)\n",
    "    intens_list.append(iso.intens)\n",
    "\n",
    "sma = np.array(sma_list)\n",
    "intens = np.array(intens_list)\n",
    "\n",
    "plt.scatter(sma**0.25, intens)\n",
    "\n",
    "plt.xlabel('SMA**1/4')\n",
    "plt.ylabel('INTENS')\n",
    "plt.title(\"M51 profile\")\n",
    "plt.show()"
   ]
  },
  {
   "cell_type": "code",
   "execution_count": null,
   "metadata": {
    "collapsed": true
   },
   "outputs": [],
   "source": []
  }
 ],
 "metadata": {
  "kernelspec": {
   "display_name": "Python 3",
   "language": "python",
   "name": "python3"
  },
  "language_info": {
   "codemirror_mode": {
    "name": "ipython",
    "version": 3
   },
   "file_extension": ".py",
   "mimetype": "text/x-python",
   "name": "python",
   "nbconvert_exporter": "python",
   "pygments_lexer": "ipython3",
   "version": "3.5.1"
  }
 },
 "nbformat": 4,
 "nbformat_minor": 0
}
