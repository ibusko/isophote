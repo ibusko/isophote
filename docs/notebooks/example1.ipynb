{
 "cells": [
  {
   "cell_type": "markdown",
   "metadata": {},
   "source": [
    "# Running 'ellipse':"
   ]
  },
  {
   "cell_type": "markdown",
   "metadata": {},
   "source": [
    "Read test image (this is the image formerly distributed with the IRAF software as dev$pix):"
   ]
  },
  {
   "cell_type": "code",
   "execution_count": 1,
   "metadata": {
    "collapsed": true
   },
   "outputs": [],
   "source": [
    "from astropy.io import fits\n",
    "image = fits.open(\"../../test/data/M51.fits\")\n",
    "pixel_data = image[0].data"
   ]
  },
  {
   "cell_type": "markdown",
   "metadata": {},
   "source": [
    "Create an instance of the Ellipse class, passing the numpy 2-D array with the pixel data as argument to the constructor:"
   ]
  },
  {
   "cell_type": "code",
   "execution_count": null,
   "metadata": {
    "collapsed": true
   },
   "outputs": [],
   "source": [
    "from ellipse.ellipse import Ellipse\n",
    "\n",
    "ellipse = Ellipse(pixel_data)"
   ]
  },
  {
   "cell_type": "markdown",
   "metadata": {},
   "source": [
    "Finally, run the fit_image method, getting as result an instance of class IsophoteList.\n",
    "\n",
    "Wait until all the output prints out, down to the SMA = 0 central intensity value."
   ]
  },
  {
   "cell_type": "code",
   "execution_count": null,
   "metadata": {
    "collapsed": false
   },
   "outputs": [
    {
     "name": "stdout",
     "output_type": "stream",
     "text": [
      "#\n",
      "# Semi-    Isophote      Ellipticity   Position    Grad.  Data  Flag  Iter. Stop\n",
      "# major      mean                       Angle       rel.                    code\n",
      "# axis     intensity                               error\n",
      "#(pixel)                               (degree)\n",
      "#\n",
      "  10.00     1087.19        0.098        67.76      0.193    60    0    20     0\n",
      "  11.00     1045.31        0.134        73.17      0.157    64    0    10     0\n",
      "  12.10      988.67        0.157        68.42      0.158    70    0    10     0\n",
      "  13.31      884.66        0.022        52.72      0.490    83    0    50     2\n",
      "  14.64      857.60        0.022        52.72      0.521    91    0     3     5\n",
      "  16.11      961.28        0.403        52.72      0.313    77    0    50     2\n",
      "  17.72      887.29        0.358        50.58      0.145    88    0    10     0\n",
      "  19.49      756.85        0.179        35.12      0.110   110    0    10     0\n",
      "  21.44      681.95        0.211        35.82      0.153   119    0    10     0\n",
      "  23.58      667.52        0.282        38.90      0.113   124    0    10     0\n",
      "  25.94      525.35        0.226        41.16      0.099   142    0    10     0\n",
      "  28.53      538.81        0.311        51.16      0.106   147    0    14     0\n",
      "  31.38      350.41        0.054        40.98      0.227   191    0    50     2\n",
      "  34.52      314.72        0.054        40.98      0.241   210    0     5     5\n",
      "  37.97      280.18        0.054        40.98      3.619   231    0     3     5\n"
     ]
    }
   ],
   "source": [
    "isophote_list = ellipse.fit_image(verbose=True)"
   ]
  },
  {
   "cell_type": "code",
   "execution_count": null,
   "metadata": {
    "collapsed": false
   },
   "outputs": [],
   "source": [
    "type(isophote_list)"
   ]
  },
  {
   "cell_type": "markdown",
   "metadata": {},
   "source": [
    "### Running 'ellipse' in a finer-grained way:"
   ]
  },
  {
   "cell_type": "markdown",
   "metadata": {},
   "source": [
    "We can fit individual ellipses as well, by just calling the 'fit_isophote' method in the same Ellipse instance (passing the semi-major axis length to the method):"
   ]
  },
  {
   "cell_type": "code",
   "execution_count": null,
   "metadata": {
    "collapsed": false
   },
   "outputs": [],
   "source": [
    "isophote = ellipse.fit_isophote(20.)\n",
    "\n",
    "from ellipse.isophote import print_header\n",
    "print_header(verbose=True)\n",
    "isophote.print(verbose=True)"
   ]
  },
  {
   "cell_type": "markdown",
   "metadata": {},
   "source": [
    "Note that in this case we get an instance of class Isophote, not IsophoteList as before:"
   ]
  },
  {
   "cell_type": "code",
   "execution_count": null,
   "metadata": {
    "collapsed": false
   },
   "outputs": [],
   "source": [
    "type(isophote)"
   ]
  },
  {
   "cell_type": "markdown",
   "metadata": {},
   "source": [
    "Regarding the example above, by calling the 'fit_isophote' method in a simple 'for' loop with successive values for the semi-major axis length, one may be lead to think that it will emulate the behavior of the 'fit_image' method. However, that would not in general result in the best fits. The fitting algorithm is quite sensitive to the initial guesses (the starting ellipse geometry) and other fitting parameters such as the step used to move from a given ellipse to the next, the area integration method, finding the maximum acceptable semi-major axis length, and such. The 'fit_image' method takes care of handling these details in a transparent way for the user."
   ]
  },
  {
   "cell_type": "markdown",
   "metadata": {},
   "source": [
    "In the 'isophote' package, the class constructors and method calls accept a variety of parameters that can be used to customize and fine-tune the fit process. Here we give a few eaxamples; please consult the code documentation for a complete description. "
   ]
  },
  {
   "cell_type": "markdown",
   "metadata": {},
   "source": [
    "For instance, the fit algorithm is quite sensitive to the initial guesses for the X and Y position of the center of the galaxy on the frame. When using default values as in the examples above, the methods assume that the galaxy is exactly centered in the frame. The fit algorithm can also fail to properly converge if either the ellipticiy or the position angle of the semi-major axis are too way off the true values. To override that, we should initialize the Ellipse constructor with an instance of class Geometry. This class encapsulates all data and behavior associated with a given ellipse's geometry."
   ]
  },
  {
   "cell_type": "code",
   "execution_count": null,
   "metadata": {
    "collapsed": false
   },
   "outputs": [],
   "source": [
    "import numpy as np\n",
    "from ellipse.geometry import Geometry\n",
    "\n",
    "# geometry parameters\n",
    "x0 = 256.\n",
    "y0 = 256.\n",
    "sma = 20.\n",
    "eps = 0.2\n",
    "pa = 35. / 180. / np.pi # 35 deg converted to radians\n",
    "astep = 0.1\n",
    "linear_growth = False\n",
    "\n",
    "g = Geometry(x0, y0, sma, eps, pa, astep, linear_growth)\n",
    "ellipse = Ellipse(pixel_data, geometry=g)\n",
    "\n",
    "#from now on, it's the same as in examples above"
   ]
  },
  {
   "cell_type": "markdown",
   "metadata": {},
   "source": [
    "To further break down the fit process, one could explictly work with the Sample and Fitter classes, as exemplified below."
   ]
  },
  {
   "cell_type": "code",
   "execution_count": null,
   "metadata": {
    "collapsed": false
   },
   "outputs": [],
   "source": [
    "from ellipse.sample import Sample\n",
    "from ellipse.fitter import Fitter\n",
    "\n",
    "sample = Sample(pixel_data, 40, geometry=g)\n",
    "fitter = Fitter(sample)\n",
    "isophote = fitter.fit()"
   ]
  },
  {
   "cell_type": "markdown",
   "metadata": {},
   "source": [
    "In here, we initially create an instance of the Sample class. This instance encapsulates everything associated with a given elliptical path over the image. This includes not only the geometry information, but also the raw intensity samples extracted from the image, as well as associated photometric quantities.\n",
    "\n",
    "The Sample instance is used to initialize an instance of the Fitter class. This class has a number of controls to help in tweaking the fit. The final result of the 'fit' method is an instance of class Isophote with the final, fitted values of the geometry parameters."
   ]
  },
  {
   "cell_type": "markdown",
   "metadata": {},
   "source": [
    "# Plotting results:"
   ]
  },
  {
   "cell_type": "markdown",
   "metadata": {},
   "source": [
    "Import packages necessary for plotting:"
   ]
  },
  {
   "cell_type": "code",
   "execution_count": null,
   "metadata": {
    "collapsed": false
   },
   "outputs": [],
   "source": [
    "import numpy as np\n",
    "import matplotlib.pyplot as plt\n",
    "%matplotlib inline"
   ]
  },
  {
   "cell_type": "markdown",
   "metadata": {},
   "source": [
    "Basic plot of intensities as a function of (semi-major axis length) ** 1/4:"
   ]
  },
  {
   "cell_type": "code",
   "execution_count": null,
   "metadata": {
    "collapsed": false
   },
   "outputs": [],
   "source": [
    "plt.scatter(isophote_list.sma**0.25, isophote_list.intens)\n",
    "\n",
    "plt.xlabel('SMA**1/4')\n",
    "plt.ylabel('INTENS')\n",
    "plt.title(\"M51 profile\")\n",
    "plt.show()"
   ]
  },
  {
   "cell_type": "markdown",
   "metadata": {},
   "source": []
  }
 ],
 "metadata": {
  "kernelspec": {
   "display_name": "Python 3",
   "language": "python",
   "name": "python3"
  },
  "language_info": {
   "codemirror_mode": {
    "name": "ipython",
    "version": 3
   },
   "file_extension": ".py",
   "mimetype": "text/x-python",
   "name": "python",
   "nbconvert_exporter": "python",
   "pygments_lexer": "ipython3",
   "version": "3.4.4"
  }
 },
 "nbformat": 4,
 "nbformat_minor": 0
}
