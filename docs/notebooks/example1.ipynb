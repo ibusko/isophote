{
 "cells": [
  {
   "cell_type": "markdown",
   "metadata": {},
   "source": [
    "# Running 'ellipse':"
   ]
  },
  {
   "cell_type": "markdown",
   "metadata": {},
   "source": [
    "Read test image (this is the image formerly distributed with the IRAF software as dev$pix):"
   ]
  },
  {
   "cell_type": "code",
   "execution_count": 1,
   "metadata": {
    "collapsed": true
   },
   "outputs": [],
   "source": [
    "from astropy.io import fits\n",
    "image = fits.open(\"../../test/data/M51.fits\")\n",
    "pixel_data = image[0].data"
   ]
  },
  {
   "cell_type": "markdown",
   "metadata": {},
   "source": [
    "Create an instance of the Ellipse class, passing the numpy 2-D array with the pixel data as argument to the constructor:"
   ]
  },
  {
   "cell_type": "code",
   "execution_count": 2,
   "metadata": {
    "collapsed": true
   },
   "outputs": [],
   "source": [
    "from ellipse.ellipse import Ellipse\n",
    "\n",
    "ellipse = Ellipse(pixel_data)"
   ]
  },
  {
   "cell_type": "markdown",
   "metadata": {},
   "source": [
    "Finally, run the fit_image method, getting as result an instance of class IsophoteList.\n",
    "\n",
    "Wait until all the output prints out, down to the SMA = 0 central intensity value."
   ]
  },
  {
   "cell_type": "code",
   "execution_count": 3,
   "metadata": {
    "collapsed": false
   },
   "outputs": [
    {
     "name": "stdout",
     "output_type": "stream",
     "text": [
      "#\n",
      "# Semi-    Isophote      Ellipticity   Position    Grad.  Data  Flag  Iter. Stop\n",
      "# major      mean                       Angle       rel.                    code\n",
      "# axis     intensity                               error\n",
      "#(pixel)                               (degree)\n",
      "#\n",
      "  10.00     1087.19        0.098        67.76      0.193    60    0    20     0\n",
      "  11.00     1045.31        0.134        73.17      0.157    64    0    10     0\n",
      "  12.10      988.67        0.157        68.42      0.158    70    0    10     0\n",
      "  13.31      884.66        0.022        52.72      0.490    83    0    50     2\n",
      "  14.64      857.60        0.022        52.72      0.521    91    0     3     5\n",
      "  16.11      961.28        0.403        52.72      0.313    77    0    50     2\n",
      "  17.72      887.29        0.358        50.58      0.145    88    0    10     0\n",
      "  19.49      756.85        0.179        35.12      0.110   110    0    10     0\n",
      "  21.44      681.95        0.211        35.82      0.153   119    0    10     0\n",
      "  23.58      667.52        0.282        38.90      0.113   124    0    10     0\n",
      "  25.94      525.35        0.226        41.16      0.099   142    0    10     0\n",
      "  28.53      538.81        0.311        51.16      0.106   147    0    14     0\n",
      "  31.38      350.41        0.054        40.98      0.227   191    0    50     2\n",
      "  34.52      314.72        0.054        40.98      0.241   210    0     5     5\n",
      "  37.97      280.18        0.054        40.98      3.619   231    0     3     5\n",
      "   9.09     1115.02        0.049        60.68      0.242    56    0    10     0\n",
      "   8.26     1150.21        0.061       102.34      0.231    50    0    10     0\n",
      "   7.51     1223.89        0.083       115.56      0.162    45    0    10     0\n",
      "   6.83     1304.72        0.073       120.83      0.136    41    0    10     0\n",
      "   6.21     1403.78        0.079       125.38      0.118    38    0    10     0\n",
      "   5.64     1514.93        0.096       129.52      0.111    34    0    10     0\n",
      "   5.13     1633.00        0.107       131.96      0.100    31    0    10     0\n",
      "   4.67     1760.24        0.112       128.58      0.083    28    0    10     0\n",
      "   4.24     1892.80        0.107       127.02      0.075    25    0    10     0\n",
      "   3.86     2053.30        0.098       123.63      0.063    23    0    10     0\n",
      "   3.50     2247.88        0.098       120.56      0.056    21    0    10     0\n",
      "   3.19     2442.21        0.084       120.56      0.087    19    0    10     0\n",
      "   2.90     2769.25        0.096       120.57      0.065    18    0    50     2\n",
      "   2.63     3070.12        0.098       118.17      0.056    16    0    10     0\n",
      "   2.39     3406.76        0.098       116.95      0.061    15    0    50     2\n",
      "   2.18     3681.14        0.070       122.94      0.089    14    0    50     2\n",
      "   1.98     4044.86        0.070       114.09      0.095    13    0    50     2\n",
      "   1.80     4423.00        0.070       111.70      0.088    13    0    50     2\n",
      "   1.64     4853.35        0.094       121.85      0.093    13    0    10     0\n",
      "   1.49     5164.43        0.091       121.60      0.103    13    0    10     0\n",
      "   1.35     5445.99        0.084       119.39      0.091    13    0    10     0\n",
      "   1.23     5705.82        0.092       119.43      0.125    13    0    10     0\n",
      "   1.12     5974.03        0.108       117.57      0.146    13    0    50     2\n",
      "   1.02     6152.98        0.091       104.25      0.251    13    0    50     2\n",
      "   0.92     6309.40        0.071       153.80      0.400    13    0    10     0\n",
      "   0.84     6433.70        0.081       152.47      0.505    13    0    15     0\n",
      "   0.76     6523.17        0.081       132.99      0.390    13    0    16     0\n",
      "   0.69     6608.21        0.058       137.10      0.357    13    0    24     0\n",
      "   0.63     6751.34        0.022       128.13      0.707    13    0    10     0\n",
      "   0.57     6797.70        0.062       138.03      0.365    13    0    18     0\n",
      "   0.52     6877.88        0.052       134.85      0.389    13    0    14     0\n",
      "   0.00     7970.06\n"
     ]
    }
   ],
   "source": [
    "isophote_list = ellipse.fit_image(verbose=True)"
   ]
  },
  {
   "cell_type": "code",
   "execution_count": 4,
   "metadata": {
    "collapsed": false
   },
   "outputs": [
    {
     "data": {
      "text/plain": [
       "ellipse.isophote.IsophoteList"
      ]
     },
     "execution_count": 4,
     "metadata": {},
     "output_type": "execute_result"
    }
   ],
   "source": [
    "type(isophote_list)"
   ]
  },
  {
   "cell_type": "markdown",
   "metadata": {},
   "source": [
    "### Running 'ellipse' in a finer-grained way:"
   ]
  },
  {
   "cell_type": "markdown",
   "metadata": {},
   "source": [
    "We can fit individual ellipses as well, by just calling the 'fit_isophote' method in the same Ellipse instance (passing the semi-major axis length to the method):"
   ]
  },
  {
   "cell_type": "code",
   "execution_count": 23,
   "metadata": {
    "collapsed": false
   },
   "outputs": [
    {
     "name": "stdout",
     "output_type": "stream",
     "text": [
      "#\n",
      "# Semi-    Isophote      Ellipticity   Position    Grad.  Data  Flag  Iter. Stop\n",
      "# major      mean                       Angle       rel.                    code\n",
      "# axis     intensity                               error\n",
      "#(pixel)                               (degree)\n",
      "#\n",
      "  20.00      713.84        0.244        43.97      1.926   108    0     7    -1\n"
     ]
    }
   ],
   "source": [
    "isophote = ellipse.fit_isophote(20.)\n",
    "\n",
    "from ellipse.isophote import print_header\n",
    "print_header(verbose=True)\n",
    "isophote.print(verbose=True)"
   ]
  },
  {
   "cell_type": "markdown",
   "metadata": {},
   "source": [
    "Note that in this case we get an instance of class Isophote, not IsophoteList as before:"
   ]
  },
  {
   "cell_type": "code",
   "execution_count": 6,
   "metadata": {
    "collapsed": false
   },
   "outputs": [
    {
     "data": {
      "text/plain": [
       "ellipse.isophote.Isophote"
      ]
     },
     "execution_count": 6,
     "metadata": {},
     "output_type": "execute_result"
    }
   ],
   "source": [
    "type(isophote)"
   ]
  },
  {
   "cell_type": "markdown",
   "metadata": {},
   "source": [
    "Regarding the example above, by calling the 'fit_isophote' method in a simple 'for' loop with successive values for the semi-major axis length, one may be lead to think that it will emulate the behavior of the 'fit_image' method. However, that would not in general result in the best fits. The fitting algorithm is quite sensitive to the initial guesses (the starting ellipse geometry) and other fitting parameters such as the step used to move from a given ellipse to the next, the area integration method, finding the maximum acceptable semi-major axis length, and such. The 'fit_image' method takes care of handling these details in a transparent way for the user."
   ]
  },
  {
   "cell_type": "markdown",
   "metadata": {},
   "source": [
    "In the 'isophote' package, the class constructors and method calls accept a variety of parameters that can be used to customize and fine-tune the fit process. Here we give a few eaxamples; please consult the code documentation for a complete description. "
   ]
  },
  {
   "cell_type": "markdown",
   "metadata": {},
   "source": [
    "For instance, the fit algorithm is quite sensitive to the initial guesses for the X and Y position of the center of the galaxy on the frame. When using default values as in the examples above, the methods assume that the galaxy is exactly centered in the frame. The fit algorithm can also fail to properly converge if either the ellipticiy or the position angle of the semi-major axis are too way off the true values. To override that, we should initialize the Ellipse constructor with an instance of class Geometry. This class encapsulates all data and behavior associated with a given ellipse's geometry."
   ]
  },
  {
   "cell_type": "code",
   "execution_count": 25,
   "metadata": {
    "collapsed": false
   },
   "outputs": [
    {
     "name": "stdout",
     "output_type": "stream",
     "text": [
      "  20.00      713.84        0.244        43.97      1.926   108    0     7    -1\n"
     ]
    },
    {
     "data": {
      "text/plain": [
       "array([ 19.98125561,  19.92545329,  19.83376234,  19.70801082])"
      ]
     },
     "execution_count": 25,
     "metadata": {},
     "output_type": "execute_result"
    }
   ],
   "source": [
    "import numpy as np\n",
    "from ellipse.geometry import Geometry\n",
    "\n",
    "# geometry parameters\n",
    "x0 = 256.\n",
    "y0 = 256.\n",
    "sma = 20.\n",
    "eps = 0.2\n",
    "pa = 35. / 180. / np.pi # 35 deg converted to radians\n",
    "astep = 0.1\n",
    "linear_growth = False\n",
    "\n",
    "g = Geometry(x0, y0, sma, eps, pa, astep, linear_growth)\n",
    "ellipse = Ellipse(pixel_data, geometry=g)\n",
    "isophote = ellipse.fit_isophote(20.)\n",
    "\n",
    "isophote.print(verbose=True)"
   ]
  },
  {
   "cell_type": "markdown",
   "metadata": {},
   "source": [
    "To further break down the fit process, one could explictly work with the Sample and Fitter classes, as exemplified below."
   ]
  },
  {
   "cell_type": "code",
   "execution_count": 29,
   "metadata": {
    "collapsed": false
   },
   "outputs": [
    {
     "name": "stdout",
     "output_type": "stream",
     "text": [
      "  40.00      341.32        0.241        12.35      0.125   217    0    10     0\n"
     ]
    },
    {
     "data": {
      "text/plain": [
       "array([ 275.74133901,  238.92087891,  230.46307202,  255.36917793])"
      ]
     },
     "execution_count": 29,
     "metadata": {},
     "output_type": "execute_result"
    }
   ],
   "source": [
    "from ellipse.sample import Sample\n",
    "from ellipse.fitter import Fitter\n",
    "\n",
    "sample = Sample(pixel_data, 40, geometry=g)\n",
    "fitter = Fitter(sample)\n",
    "isophote = fitter.fit()\n",
    "\n",
    "isophote.print(verbose=True)"
   ]
  },
  {
   "cell_type": "markdown",
   "metadata": {},
   "source": [
    "In here, we initially create an instance of the Sample class. This instance encapsulates everything associated with a given elliptical path over the image. This includes not only the geometry information, but also the raw intensity samples extracted from the image, as well as associated photometric quantities. \n",
    "\n",
    "Note that the Sample constructor allows for overriding the semi-major axis length initially used to create the Geometry instance. That way, one can propagate a given geometry configuration to other values of semi-major axis length.\n",
    "\n",
    "The Sample instance is used to initialize an instance of the Fitter class. This class has a number of controls to help in tweaking the fit. The final result of the 'fit' method is an instance of class Isophote with the final, fitted values of the geometry parameters."
   ]
  },
  {
   "cell_type": "markdown",
   "metadata": {},
   "source": [
    "Raw values extracted from the image can be accessed via the 'values' attribute of a Sample instance. This attribute stores a 2-D numpy array. The first element is of length 3, and each one of those has as many elements as there are individual extracted values from the image. "
   ]
  },
  {
   "cell_type": "code",
   "execution_count": 38,
   "metadata": {
    "collapsed": false
   },
   "outputs": [
    {
     "data": {
      "text/plain": [
       "(3, 217)"
      ]
     },
     "execution_count": 38,
     "metadata": {},
     "output_type": "execute_result"
    }
   ],
   "source": [
    "isophote.sample.values.shape"
   ]
  },
  {
   "cell_type": "markdown",
   "metadata": {},
   "source": [
    "The 3 top-level elements contain respectively the position angles, the polar radii, and the intensity values extracted at each position along the elliptical path on the image:"
   ]
  },
  {
   "cell_type": "code",
   "execution_count": 39,
   "metadata": {
    "collapsed": false
   },
   "outputs": [
    {
     "data": {
      "text/plain": [
       "array([ 0.0375    ,  0.06251295,  0.0875489 ,  0.11261928])"
      ]
     },
     "execution_count": 39,
     "metadata": {},
     "output_type": "execute_result"
    }
   ],
   "source": [
    "# angles in radians\n",
    "isophote.sample.values[0][0:4]"
   ]
  },
  {
   "cell_type": "code",
   "execution_count": 40,
   "metadata": {
    "collapsed": false
   },
   "outputs": [
    {
     "data": {
      "text/plain": [
       "array([ 39.97928514,  39.94256211,  39.88771536,  39.81501848])"
      ]
     },
     "execution_count": 40,
     "metadata": {},
     "output_type": "execute_result"
    }
   ],
   "source": [
    "# polar radii in pixels\n",
    "isophote.sample.values[1][0:4]"
   ]
  },
  {
   "cell_type": "code",
   "execution_count": 42,
   "metadata": {
    "collapsed": false
   },
   "outputs": [
    {
     "data": {
      "text/plain": [
       "array([ 275.74133901,  238.92087891,  230.46307202,  255.36917793])"
      ]
     },
     "execution_count": 42,
     "metadata": {},
     "output_type": "execute_result"
    }
   ],
   "source": [
    "# intensities\n",
    "isophote.sample.values[2][0:4]"
   ]
  },
  {
   "cell_type": "markdown",
   "metadata": {},
   "source": [
    "Note that, in the example above, we cannot use the original Sample instance used to initialize the fitter. Once the fitter does its bidding, that instance becomes invalid and we need to look for a new Sample instance inside the Isophote instance just created."
   ]
  },
  {
   "cell_type": "markdown",
   "metadata": {},
   "source": [
    "# Plotting results:"
   ]
  },
  {
   "cell_type": "markdown",
   "metadata": {},
   "source": [
    "Import packages necessary for plotting:"
   ]
  },
  {
   "cell_type": "code",
   "execution_count": 13,
   "metadata": {
    "collapsed": false
   },
   "outputs": [],
   "source": [
    "import numpy as np\n",
    "import matplotlib.pyplot as plt\n",
    "%matplotlib inline"
   ]
  },
  {
   "cell_type": "markdown",
   "metadata": {},
   "source": [
    "The attributes of an Isophote instance are also attributes of an IsophoteList instance. The difference is, while the individual isophotes have scalar attributes, the same attributes in an IsophoteList are numpy arrays that store the given attribute across all isophotes in the list. Thus, attributes in a IsophoteList can be directly used as parameters for matplotlib calls.\n",
    "\n",
    "As an example, a basic plot of intensities as a function of (semi-major axis length)^1/4 can be done simply as:"
   ]
  },
  {
   "cell_type": "code",
   "execution_count": 43,
   "metadata": {
    "collapsed": false
   },
   "outputs": [
    {
     "data": {
      "image/png": "[encoded data removed]",
      "text/plain": [
       "<matplotlib.figure.Figure at 0x10ccd0cc0>"
      ]
     },
     "metadata": {},
     "output_type": "display_data"
    }
   ],
   "source": [
    "plt.scatter(isophote_list.sma**0.25, isophote_list.intens)\n",
    "\n",
    "plt.xlabel('SMA**1/4')\n",
    "plt.ylabel('INTENS')\n",
    "plt.title(\"M51 brightness profile\")\n",
    "plt.show()"
   ]
  },
  {
   "cell_type": "markdown",
   "metadata": {},
   "source": []
  }
 ],
 "metadata": {
  "kernelspec": {
   "display_name": "Python 3",
   "language": "python",
   "name": "python3"
  },
  "language_info": {
   "codemirror_mode": {
    "name": "ipython",
    "version": 3
   },
   "file_extension": ".py",
   "mimetype": "text/x-python",
   "name": "python",
   "nbconvert_exporter": "python",
   "pygments_lexer": "ipython3",
   "version": "3.4.4"
  }
 },
 "nbformat": 4,
 "nbformat_minor": 0
}
