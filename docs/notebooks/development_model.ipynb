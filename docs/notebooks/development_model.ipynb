{
 "cells": [
  {
   "cell_type": "markdown",
   "metadata": {},
   "source": [
    "### This script was used when developing the 'build_model' function.  "
   ]
  },
  {
   "cell_type": "markdown",
   "metadata": {},
   "source": [
    "Here we develop the steps necessary to subsample/interpolate the variables in a IsophoteList. This is a necessary step before running the loop in the build_model function, to ensure the pixel array will be covered without leaving gaps in between successive ellipses. "
   ]
  },
  {
   "cell_type": "code",
   "execution_count": 1,
   "metadata": {
    "collapsed": false
   },
   "outputs": [
    {
     "name": "stdout",
     "output_type": "stream",
     "text": [
      "Centering on object....   Done. Found x0 = 257.0, y0 = 258.0\n",
      "#\n",
      "# Semi-      Isophote         Ellipticity    Position     Grad.   Data  Flag Iter. Stop\n",
      "# major        mean                           Angle        rel.                    code\n",
      "# axis       intensity                                    error\n",
      "#(pixel)                                     (degree)\n",
      "#\n",
      "  10.00     1094.42 ( 8.44)  0.111 (0.007)  64.68 ( 1.7)  0.190    58     1   20     0\n",
      "  11.00     1048.76 ( 7.36)  0.163 (0.005)  62.35 ( 1.0)  0.164    59     4   10     0\n",
      "  12.10      989.97 ( 6.35)  0.163 (0.003)  72.48 ( 0.6)  0.116    62     7   10     0\n",
      "  13.31      924.37 ( 6.97)  0.181 (0.004)  63.62 ( 0.7)  0.152    70     5   13     0\n",
      "  14.64      895.86 ( 7.22)  0.139 (0.005)  25.70 ( 1.0)  0.164    78     7   18     0\n",
      "  16.11      871.67 ( 7.69)  0.200 (0.004)  33.95 ( 0.6)  0.143    82     8   19     0\n",
      "  17.72      764.53 ( 5.34)  0.053 (0.003)  39.51 ( 1.1)  0.092    85    23   24     0\n",
      "  19.49      728.14 ( 4.55)  0.146 (0.002)  32.98 ( 0.3)  0.088    86    26   50     2\n",
      "  21.44      690.32 ( 5.28)  0.236 (0.002)  36.51 ( 0.3)  0.103   102    15   10     0\n",
      "  23.58      636.33 ( 7.10)  0.289 (0.002)  36.51 ( 0.3)  0.111   108    15   10     0\n",
      "  25.94      539.62 ( 4.99)  0.274 (0.001)  40.03 ( 0.2)  0.082   120    17   10     0\n",
      "  28.53      524.21 ( 6.61)  0.319 (0.002)  50.90 ( 0.2)  0.122   133    13   43     0\n",
      "  31.38      365.17 ( 4.91)  0.110 (0.002)  74.69 ( 0.6)  0.095   160    25   12     0\n",
      "  34.52      295.23 ( 3.88)  0.107 (0.002)  69.18 ( 0.6)  0.089   184    20   10     0\n",
      "  37.97      244.14 ( 2.33)  0.107 (0.004)  69.18 ( 1.2)  0.291   186    38    2     5\n",
      "  41.77      240.41 ( 2.95)  0.107 (0.003)  18.58 ( 0.6)  0.132   218    29   50     2\n",
      "  45.95      222.83 ( 2.28)  0.177 (0.002)  18.58 ( 0.3)  0.091   235    25   10     0\n",
      "  50.54      212.99 ( 1.53)  0.198 (0.001) 178.21 ( 0.2)  0.069   232    50   12     0\n",
      "  55.60      202.67 ( 1.07)  0.249 (0.001) 162.68 ( 0.1)  0.043   260    40   10     0\n",
      "  61.16      175.66 ( 1.21)  0.223 (0.002)  49.41 ( 0.3)  0.116   291    45   14     0\n",
      "  67.27      169.71 ( 0.98)  0.309 (0.001)  61.92 ( 0.1)  0.077   287    60   10     0\n",
      "  74.00      150.82 ( 1.07)  0.309 (0.014)  61.92 ( 1.5)  1.477   327    55    5     5\n",
      "  81.40      149.82 ( 1.02)  0.309 (0.008)  61.92 ( 0.9)  0.804   365    55    2     5\n",
      "   9.09     1110.21 ( 9.01)  0.022 (0.009)  63.47 (11.7)  0.221    56     1   19     0\n",
      "   8.26     1150.91 ( 7.05)  0.035 (0.006)  90.90 ( 4.8)  0.149    46     5   11     0\n",
      "   7.51     1225.51 ( 5.93)  0.046 (0.004) 110.86 ( 3.3)  0.115    39     7   10     0\n",
      "   6.83     1310.45 ( 5.75)  0.049 (0.004) 120.95 ( 3.0)  0.101    35     7   14     0\n",
      "   6.21     1420.56 ( 3.90)  0.137 (0.004) 120.88 ( 0.6)  0.080    29     7   15     0\n",
      "   5.64     1556.41 ( 3.73)  0.174 (0.004) 120.88 ( 0.4)  0.065    23     9   50     2\n",
      "   5.13     1639.68 ( 5.49)  0.131 (0.004) 125.21 ( 0.8)  0.078    27     3   10     0\n",
      "   4.67     1763.69 ( 5.95)  0.124 (0.003) 126.33 ( 0.8)  0.072    26     2   10     0\n",
      "   4.24     1893.21 ( 6.85)  0.107 (0.003) 125.98 ( 1.0)  0.069    25     0   10     0\n",
      "   3.86     2053.57 ( 7.36)  0.099 (0.003) 123.23 ( 1.0)  0.062    23     0   10     0\n",
      "   3.50     2253.75 ( 7.24)  0.101 (0.003) 119.04 ( 1.0)  0.053    20     1   10     0\n",
      "   3.19     2509.49 ( 8.73)  0.103 (0.003) 124.24 ( 1.1)  0.044    15     4   50     2\n",
      "   2.90     2766.00 (10.86)  0.101 (0.003) 121.69 ( 1.1)  0.062    17     1   10     0\n",
      "   2.63     3083.25 ( 8.98)  0.101 (0.002) 116.17 ( 0.8)  0.054    15     1   50     2\n",
      "   2.39     3412.38 ( 3.21)  0.101 (0.001) 112.70 ( 0.3)  0.041    11     4   50     2\n",
      "   2.18     3711.35 ( 8.38)  0.089 (0.003) 121.93 ( 0.8)  0.053     9     4    6     1\n",
      "   1.98     4099.57 ( 8.11)  0.089 (0.001) 121.93 ( 0.4)  0.030     9     4    1     1\n",
      "   1.80     4478.42 (20.59)  0.083 (0.005) 121.53 ( 2.0)  0.065    13     0   10     0\n",
      "   1.64     4800.11 (19.46)  0.076 (0.006) 121.33 ( 2.2)  0.077    12     1   10     0\n",
      "   1.49     5103.51 (13.90)  0.080 (0.005) 121.25 ( 2.5)  0.082    10     3   10     0\n",
      "   1.35     5445.74 (19.25)  0.084 (0.006) 119.47 ( 2.4)  0.091    13     0   10     0\n",
      "   1.23     5705.70 (22.58)  0.092 (0.009) 119.39 ( 3.1)  0.124    13     0   10     0\n",
      "   1.12     5979.82 (25.38)  0.107 (0.009) 115.55 ( 2.7)  0.133    13     0   50     2\n",
      "   1.02     6078.76 (12.73)  0.062 (0.008) 133.09 ( 4.2)  0.098    11     2   50     2\n",
      "   0.92     6281.69 (30.71)  0.100 (0.015) 156.25 ( 4.7)  0.169    12     1   50     2\n",
      "   0.84     6327.02 (20.65)  0.038 (0.016) 138.47 (19.1)  0.259    11     2   12     0\n",
      "   0.76     6475.65 (21.71)  0.088 (0.284) 126.44 (181.1)  8.371    10     3   12     0\n",
      "   0.69     6581.99 (21.27)  0.082 (0.018) 126.44 (12.0)  0.276    10     3   50     2\n",
      "   0.63     6756.07 (49.10)  0.033 (0.050) 127.11 (46.8)  0.700    13     0   17     0\n",
      "   0.57     6766.08 (12.94)  0.042 (0.013) 116.59 (13.8)  0.193    10     3   30     0\n",
      "   0.52     6917.73 (43.41)  0.020 (0.053) 129.09 (84.1)  0.735    13     0   11     0\n",
      "   0.00     7621.64\n"
     ]
    }
   ],
   "source": [
    "from astropy.io import fits\n",
    "from ellipse.ellipse import Ellipse\n",
    "\n",
    "image_data = fits.open(\"../../test/data/M51.fits\")\n",
    "image = image_data[0].data\n",
    "ellipse = Ellipse(image)\n",
    "isolist = ellipse.fit_image(sclip=2., nclip=3)"
   ]
  },
  {
   "cell_type": "markdown",
   "metadata": {},
   "source": [
    "Now we interpolate using univariate splines. This should approximate what the old STSDAS task did."
   ]
  },
  {
   "cell_type": "code",
   "execution_count": 18,
   "metadata": {
    "collapsed": false
   },
   "outputs": [
    {
     "data": {
      "text/plain": [
       "<matplotlib.collections.PathCollection at 0x111affd30>"
      ]
     },
     "execution_count": 18,
     "metadata": {},
     "output_type": "execute_result"
    },
    {
     "data": {
      "image/png": "[encoded data removed]",
      "text/plain": [
       "<matplotlib.figure.Figure at 0x110a443c8>"
      ]
     },
     "metadata": {},
     "output_type": "display_data"
    }
   ],
   "source": [
    "from scipy.interpolate import UnivariateSpline \n",
    "import numpy as np\n",
    "\n",
    "interpolator = UnivariateSpline(isolist.sma, isolist.intens, s=0.04*len(isolist.sma))\n",
    "\n",
    "finely_spaced_sma = np.arange(isolist[0].sma, isolist[-1].sma, 0.1)\n",
    "\n",
    "intens = interpolator(finely_spaced_sma)\n",
    "\n",
    "import matplotlib.pyplot as plt\n",
    "%matplotlib inline\n",
    "\n",
    "plt.gcf().set_size_inches(12.,4.)\n",
    "plt.plot(isolist.sma**0.25, isolist.intens, 'red')\n",
    "plt.scatter(finely_spaced_sma**0.25, intens)"
   ]
  },
  {
   "cell_type": "code",
   "execution_count": null,
   "metadata": {
    "collapsed": true
   },
   "outputs": [],
   "source": []
  }
 ],
 "metadata": {
  "kernelspec": {
   "display_name": "Python 3",
   "language": "python",
   "name": "python3"
  },
  "language_info": {
   "codemirror_mode": {
    "name": "ipython",
    "version": 3
   },
   "file_extension": ".py",
   "mimetype": "text/x-python",
   "name": "python",
   "nbconvert_exporter": "python",
   "pygments_lexer": "ipython3",
   "version": "3.4.4"
  }
 },
 "nbformat": 4,
 "nbformat_minor": 0
}
